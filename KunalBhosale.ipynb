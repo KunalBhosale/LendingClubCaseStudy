{
 "cells": [
  {
   "cell_type": "code",
   "execution_count": 5,
   "id": "4897ab07-6d62-4743-b9cf-f395622ea317",
   "metadata": {},
   "outputs": [
    {
     "name": "stdout",
     "output_type": "stream",
     "text": [
      "<class 'pandas.core.frame.DataFrame'>\n",
      "RangeIndex: 39717 entries, 0 to 39716\n",
      "Data columns (total 57 columns):\n",
      " #   Column                      Non-Null Count  Dtype  \n",
      "---  ------                      --------------  -----  \n",
      " 0   id                          39717 non-null  int64  \n",
      " 1   member_id                   39717 non-null  int64  \n",
      " 2   loan_amnt                   39717 non-null  int64  \n",
      " 3   funded_amnt                 39717 non-null  int64  \n",
      " 4   funded_amnt_inv             39717 non-null  float64\n",
      " 5   term                        39717 non-null  object \n",
      " 6   int_rate                    39717 non-null  object \n",
      " 7   installment                 39717 non-null  float64\n",
      " 8   grade                       39717 non-null  object \n",
      " 9   sub_grade                   39717 non-null  object \n",
      " 10  emp_title                   37258 non-null  object \n",
      " 11  emp_length                  38642 non-null  object \n",
      " 12  home_ownership              39717 non-null  object \n",
      " 13  annual_inc                  39717 non-null  float64\n",
      " 14  verification_status         39717 non-null  object \n",
      " 15  issue_d                     39717 non-null  object \n",
      " 16  loan_status                 39717 non-null  object \n",
      " 17  pymnt_plan                  39717 non-null  object \n",
      " 18  url                         39717 non-null  object \n",
      " 19  desc                        26777 non-null  object \n",
      " 20  purpose                     39717 non-null  object \n",
      " 21  title                       39706 non-null  object \n",
      " 22  zip_code                    39717 non-null  object \n",
      " 23  addr_state                  39717 non-null  object \n",
      " 24  dti                         39717 non-null  float64\n",
      " 25  delinq_2yrs                 39717 non-null  int64  \n",
      " 26  earliest_cr_line            39717 non-null  object \n",
      " 27  inq_last_6mths              39717 non-null  int64  \n",
      " 28  mths_since_last_delinq      14035 non-null  float64\n",
      " 29  mths_since_last_record      2786 non-null   float64\n",
      " 30  open_acc                    39717 non-null  int64  \n",
      " 31  pub_rec                     39717 non-null  int64  \n",
      " 32  revol_bal                   39717 non-null  int64  \n",
      " 33  revol_util                  39667 non-null  object \n",
      " 34  total_acc                   39717 non-null  int64  \n",
      " 35  initial_list_status         39717 non-null  object \n",
      " 36  out_prncp                   39717 non-null  float64\n",
      " 37  out_prncp_inv               39717 non-null  float64\n",
      " 38  total_pymnt                 39717 non-null  float64\n",
      " 39  total_pymnt_inv             39717 non-null  float64\n",
      " 40  total_rec_prncp             39717 non-null  float64\n",
      " 41  total_rec_int               39717 non-null  float64\n",
      " 42  total_rec_late_fee          39717 non-null  float64\n",
      " 43  recoveries                  39717 non-null  float64\n",
      " 44  collection_recovery_fee     39717 non-null  float64\n",
      " 45  last_pymnt_d                39646 non-null  object \n",
      " 46  last_pymnt_amnt             39717 non-null  float64\n",
      " 47  next_pymnt_d                1140 non-null   object \n",
      " 48  last_credit_pull_d          39715 non-null  object \n",
      " 49  collections_12_mths_ex_med  39661 non-null  float64\n",
      " 50  policy_code                 39717 non-null  int64  \n",
      " 51  application_type            39717 non-null  object \n",
      " 52  acc_now_delinq              39717 non-null  int64  \n",
      " 53  chargeoff_within_12_mths    39661 non-null  float64\n",
      " 54  delinq_amnt                 39717 non-null  int64  \n",
      " 55  pub_rec_bankruptcies        39020 non-null  float64\n",
      " 56  tax_liens                   39678 non-null  float64\n",
      "dtypes: float64(20), int64(13), object(24)\n",
      "memory usage: 17.3+ MB\n",
      "unique loan ids: 39717\n"
     ]
    }
   ],
   "source": [
    "import pandas as pd\n",
    "import matplotlib.pyplot as plt\n",
    "loan_df = pd.read_csv(r'C:/Users/kbhosale/Desktop/Kunal/career/AIAndML/CaseStudy/LendingClub/loan/loan.csv')\n",
    "#remove all columns which have only NA\n",
    "loan_df_withoutNA = loan_df.dropna(axis='columns', how='all')\n",
    "#describe the dataframe to get total entries, non null entries and data types\n",
    "loan_df_withoutNA.info()\n",
    "loan_df_withoutNA.describe()\n",
    "#check if unique loan id are same as 39717 to see any duplicate loan ids\n",
    "id_unique = len(pd.unique(loan_df_withoutNA['id']))\n",
    "print(\"unique loan ids:\", id_unique)\n"
   ]
  },
  {
   "cell_type": "code",
   "execution_count": 24,
   "id": "09dd13d0-10c7-4bec-ac36-b3bffc4a1c45",
   "metadata": {},
   "outputs": [
    {
     "data": {
      "image/png": "[encoded data removed]",
      "text/plain": [
       "<Figure size 432x288 with 1 Axes>"
      ]
     },
     "metadata": {
      "needs_background": "light"
     },
     "output_type": "display_data"
    }
   ],
   "source": [
    "##start identify outliers, most of the columns in the dataframe are categorial having fixed categorial set of values so they dont qualify to check for outliers\n",
    "#so calculating boxplots only for selected columns\n",
    "#check outliers for dti which is ratio of debt payment to monthly income\n",
    "boxplot = final_df.boxplot(column=['dti'])\n"
   ]
  },
  {
   "cell_type": "code",
   "execution_count": 25,
   "id": "9de28e1f-dda1-4266-a06a-9e5b3af500d5",
   "metadata": {},
   "outputs": [
    {
     "data": {
      "image/png": "[encoded data removed]",
      "text/plain": [
       "<Figure size 432x288 with 1 Axes>"
      ]
     },
     "metadata": {
      "needs_background": "light"
     },
     "output_type": "display_data"
    }
   ],
   "source": [
    "#values above 1 seem to be outliers but outlier records are very low as a % of total rows 39717, so not removing these outliers\n",
    "#delinq_2yrs - how many times loan delinquated in 2 years\n",
    "boxplot1 = final_df.boxplot(column=['delinq_2yrs'])"
   ]
  },
  {
   "cell_type": "code",
   "execution_count": 26,
   "id": "f15b5583-767c-4e40-9d57-e3cdd9140d66",
   "metadata": {},
   "outputs": [
    {
     "data": {
      "image/png": "[encoded data removed]",
      "text/plain": [
       "<Figure size 432x288 with 1 Axes>"
      ]
     },
     "metadata": {
      "needs_background": "light"
     },
     "output_type": "display_data"
    }
   ],
   "source": [
    "boxplot2 = final_df.boxplot(column=['mths_since_last_delinq'])"
   ]
  },
  {
   "cell_type": "code",
   "execution_count": 27,
   "id": "4e45679a-2f2b-436f-b833-cc2ce853ca89",
   "metadata": {},
   "outputs": [
    {
     "data": {
      "image/png": "[encoded data removed]",
      "text/plain": [
       "<Figure size 432x288 with 1 Axes>"
      ]
     },
     "metadata": {
      "needs_background": "light"
     },
     "output_type": "display_data"
    }
   ],
   "source": [
    "boxplot3 = final_df.boxplot(column=['mths_since_last_record'])"
   ]
  },
  {
   "cell_type": "code",
   "execution_count": 94,
   "id": "24533d66-7e35-45b1-8ec6-a46d28cb934c",
   "metadata": {},
   "outputs": [
    {
     "data": {
      "image/png": "[encoded data removed]",
      "text/plain": [
       "<Figure size 432x288 with 1 Axes>"
      ]
     },
     "metadata": {
      "needs_background": "light"
     },
     "output_type": "display_data"
    }
   ],
   "source": [
    "#dti impact on whether perticulat dti group has more % of loan defaulters\n",
    "#dti is ratio of existing total monthly loan emi to monthly income\n",
    "dti_df_0To4 = loan_df_withoutNA[(loan_df_withoutNA[\"dti\"] > 0.00) & (loan_df_withoutNA[\"dti\"] <= 4)] \n",
    "dti_df_5To9 = loan_df_withoutNA[(loan_df_withoutNA[\"dti\"] > 5.00) & (loan_df_withoutNA[\"dti\"] <= 9)] \n",
    "dti_df_10To14 = loan_df_withoutNA[(loan_df_withoutNA[\"dti\"] > 10) & (loan_df_withoutNA[\"dti\"] <= 14)] \n",
    "dti_df_15To19 = loan_df_withoutNA[(loan_df_withoutNA[\"dti\"] > 15.00) & (loan_df_withoutNA[\"dti\"] <= 19)] \n",
    "dti_df_20To24 = loan_df_withoutNA[(loan_df_withoutNA[\"dti\"] > 20.00) & (loan_df_withoutNA[\"dti\"] <= 24)] \n",
    "dti_df_25To29 = loan_df_withoutNA[(loan_df_withoutNA[\"dti\"] > 25.00) & (loan_df_withoutNA[\"dti\"] <= 29)] \n",
    "#dti impact on whether perticulat dti group has more % of loan defaulters\n",
    "dti_df_0To4Pct = len(dti_df_0To4[dti_df_0To4['loan_status'] == 'Charged Off']) / len(dti_df_0To4) * 100\n",
    "dti_df_5To9Pct =(len(dti_df_5To9[dti_df_5To9['loan_status'] == 'Charged Off']) / len(dti_df_5To9)) * 100\n",
    "dti_df_10To14Pct =(len(dti_df_10To14[dti_df_10To14['loan_status'] == 'Charged Off']) / len(dti_df_10To14)) * 100\n",
    "dti_df_15To19Pct =(len(dti_df_15To19[dti_df_15To19['loan_status'] == 'Charged Off']) / len(dti_df_15To19)) * 100\n",
    "dti_df_20To24Pct =(len(dti_df_20To24[dti_df_20To24['loan_status'] == 'Charged Off']) / len(dti_df_20To24)) * 100\n",
    "dti_df_25To29Pct =(len(dti_df_25To29[dti_df_25To29['loan_status'] == 'Charged Off']) / len(dti_df_25To29)) * 100\n",
    "\n",
    "df = pd.DataFrame({'dti bins':['dti0To4','dti5To9','dti10To14','dti15To19','dti20To24','dti25To29'], 'defaultloan%':[dti_df_0To4Pct, dti_df_5To9Pct, dti_df_10To14Pct,dti_df_15To19Pct,dti_df_20To24Pct,dti_df_25To29Pct]})\n",
    "ax = df.plot.bar(x='dti bins', y='defaultloan%', rot=0)"
   ]
  },
  {
   "cell_type": "code",
   "execution_count": 98,
   "id": "9aa3e6db-dc0a-4124-b8e0-e70c35d44250",
   "metadata": {},
   "outputs": [
    {
     "data": {
      "image/png": "[encoded data removed]",
      "text/plain": [
       "<Figure size 432x288 with 1 Axes>"
      ]
     },
     "metadata": {
      "needs_background": "light"
     },
     "output_type": "display_data"
    }
   ],
   "source": [
    "#dti impact on whether eomployment length has more % of loan defaulters\n",
    "emplen_df_lt1 = loan_df_withoutNA[(loan_df_withoutNA[\"emp_length\"] == \"< 1 year\")] \n",
    "emplen_df_1 = loan_df_withoutNA[(loan_df_withoutNA[\"emp_length\"] == \"1 year\")] \n",
    "emplen_df_2 = loan_df_withoutNA[(loan_df_withoutNA[\"emp_length\"] == \"2 years\")]\n",
    "emplen_df_3 = loan_df_withoutNA[(loan_df_withoutNA[\"emp_length\"] == \"3 years\")]\n",
    "emplen_df_4 = loan_df_withoutNA[(loan_df_withoutNA[\"emp_length\"] == \"4 years\")]\n",
    "emplen_df_5 = loan_df_withoutNA[(loan_df_withoutNA[\"emp_length\"] == \"5 years\")]\n",
    "emplen_df_6 = loan_df_withoutNA[(loan_df_withoutNA[\"emp_length\"] == \"6 years\")]\n",
    "emplen_df_7 = loan_df_withoutNA[(loan_df_withoutNA[\"emp_length\"] == \"7 years\")]\n",
    "emplen_df_8 = loan_df_withoutNA[(loan_df_withoutNA[\"emp_length\"] == \"8 years\")]\n",
    "emplen_df_9 = loan_df_withoutNA[(loan_df_withoutNA[\"emp_length\"] == \"9 years\")]\n",
    "emplen_df_10 = loan_df_withoutNA[(loan_df_withoutNA[\"emp_length\"] == \"10+ years\")]\n",
    "\n",
    "#compare only charged off records against total records to calculate %\n",
    "emplen_df_lt1Pct = len(emplen_df_lt1[emplen_df_lt1['loan_status'] == 'Charged Off']) / len(emplen_df_lt1) * 100\n",
    "emplen_df_1Pct =(len(emplen_df_1[emplen_df_1['loan_status'] == 'Charged Off']) / len(emplen_df_1)) * 100\n",
    "emplen_df_2Pct =(len(emplen_df_2[emplen_df_2['loan_status'] == 'Charged Off']) / len(emplen_df_2)) * 100\n",
    "emplen_df_3Pct =(len(emplen_df_3[emplen_df_3['loan_status'] == 'Charged Off']) / len(emplen_df_3)) * 100\n",
    "emplen_df_4Pct =(len(emplen_df_4[emplen_df_4['loan_status'] == 'Charged Off']) / len(emplen_df_4)) * 100\n",
    "emplen_df_5Pct =(len(emplen_df_5[emplen_df_5['loan_status'] == 'Charged Off']) / len(emplen_df_5)) * 100\n",
    "emplen_df_6Pct =(len(emplen_df_6[emplen_df_6['loan_status'] == 'Charged Off']) / len(emplen_df_6)) * 100\n",
    "emplen_df_7Pct =(len(emplen_df_7[emplen_df_7['loan_status'] == 'Charged Off']) / len(emplen_df_7)) * 100\n",
    "emplen_df_8Pct =(len(emplen_df_8[emplen_df_8['loan_status'] == 'Charged Off']) / len(emplen_df_8)) * 100\n",
    "emplen_df_9Pct =(len(emplen_df_9[emplen_df_9['loan_status'] == 'Charged Off']) / len(emplen_df_9)) * 100\n",
    "emplen_df_10Pct =(len(emplen_df_10[emplen_df_10['loan_status'] == 'Charged Off']) / len(emplen_df_10)) * 100\n",
    "\n",
    "df = pd.DataFrame({'emp lengh':['<1 Yr','1 Yr','2 Yr','3 Yr','4 Yr','5 Yr','6 Yr','7 Yr','8 Yr','9 Yr','10 Yr'], 'defaultloan%':[emplen_df_lt1Pct, emplen_df_1Pct, emplen_df_2Pct,emplen_df_3Pct,emplen_df_4Pct,emplen_df_5Pct,emplen_df_6Pct,emplen_df_7Pct,emplen_df_8Pct,emplen_df_9Pct,emplen_df_10Pct]})\n",
    "ax = df.plot.bar(x='emp lengh', y='defaultloan%', rot=0)"
   ]
  },
  {
   "cell_type": "code",
   "execution_count": 101,
   "id": "ddd55195-f9a2-4422-8ed2-ff702e7f7593",
   "metadata": {},
   "outputs": [
    {
     "data": {
      "image/png": "[encoded data removed]",
      "text/plain": [
       "<Figure size 432x288 with 1 Axes>"
      ]
     },
     "metadata": {
      "needs_background": "light"
     },
     "output_type": "display_data"
    }
   ],
   "source": [
    "#loan grade impact on whether loan grade has more % of loan defaulters\n",
    "loangradeA_df = loan_df_withoutNA[(loan_df_withoutNA[\"grade\"] == \"A\")] \n",
    "loangradeB_df = loan_df_withoutNA[(loan_df_withoutNA[\"grade\"] == \"B\")] \n",
    "loangradeC_df = loan_df_withoutNA[(loan_df_withoutNA[\"grade\"] == \"C\")]\n",
    "loangradeD_df = loan_df_withoutNA[(loan_df_withoutNA[\"grade\"] == \"D\")]\n",
    "loangradeE_df = loan_df_withoutNA[(loan_df_withoutNA[\"grade\"] == \"E\")]\n",
    "loangradeF_df = loan_df_withoutNA[(loan_df_withoutNA[\"grade\"] == \"F\")]\n",
    "loangradeG_df = loan_df_withoutNA[(loan_df_withoutNA[\"grade\"] == \"G\")]\n",
    "\n",
    "\n",
    "#compare only charged off records against total records to calculate %\n",
    "loangradeA_df_Pct = len(loangradeA_df[loangradeA_df['loan_status'] == 'Charged Off']) / len(loangradeA_df) * 100\n",
    "loangradeB_df_Pct =(len(loangradeB_df[loangradeB_df['loan_status'] == 'Charged Off']) / len(loangradeB_df)) * 100\n",
    "loangradeC_df_Pct =(len(loangradeC_df[loangradeC_df['loan_status'] == 'Charged Off']) / len(loangradeC_df)) * 100\n",
    "loangradeD_df_Pct =(len(loangradeD_df[loangradeD_df['loan_status'] == 'Charged Off']) / len(loangradeD_df)) * 100\n",
    "loangradeE_df_Pct =(len(loangradeE_df[loangradeE_df['loan_status'] == 'Charged Off']) / len(loangradeE_df)) * 100\n",
    "loangradeF_df_Pct =(len(loangradeF_df[loangradeF_df['loan_status'] == 'Charged Off']) / len(loangradeF_df)) * 100\n",
    "loangradeG_df_Pct =(len(loangradeG_df[loangradeG_df['loan_status'] == 'Charged Off']) / len(loangradeG_df)) * 100\n",
    "\n",
    "\n",
    "df = pd.DataFrame({'Loan Grade':['A','B','C','D','E','F','G'], 'defaultloan%':[loangradeA_df_Pct, loangradeB_df_Pct, loangradeC_df_Pct,loangradeD_df_Pct,loangradeE_df_Pct,loangradeF_df_Pct,loangradeG_df_Pct]})\n",
    "ax = df.plot.bar(x='Loan Grade', y='defaultloan%', rot=0)"
   ]
  },
  {
   "cell_type": "code",
   "execution_count": 102,
   "id": "070db25f-4348-472f-9133-6023b766a935",
   "metadata": {},
   "outputs": [
    {
     "data": {
      "image/png": "[encoded data removed]",
      "text/plain": [
       "<Figure size 432x288 with 1 Axes>"
      ]
     },
     "metadata": {
      "needs_background": "light"
     },
     "output_type": "display_data"
    }
   ],
   "source": [
    "#home ownership impact on whether loan grade has more % of loan defaulters\n",
    "RENT_df = loan_df_withoutNA[(loan_df_withoutNA[\"home_ownership\"] == \"RENT\")] \n",
    "OWN_df = loan_df_withoutNA[(loan_df_withoutNA[\"home_ownership\"] == \"OWN\")] \n",
    "MORTGAGE_df = loan_df_withoutNA[(loan_df_withoutNA[\"home_ownership\"] == \"MORTGAGE\")]\n",
    "OTHER_df = loan_df_withoutNA[(loan_df_withoutNA[\"home_ownership\"] == \"OTHER\")]\n",
    "\n",
    "\n",
    "#compare only charged off records against total records to calculate %\n",
    "RENT_df_Pct = len(RENT_df[RENT_df['loan_status'] == 'Charged Off']) / len(RENT_df) * 100\n",
    "OWN_df_Pct =(len(OWN_df[OWN_df['loan_status'] == 'Charged Off']) / len(OWN_df)) * 100\n",
    "MORTGAGE_df_Pct =(len(MORTGAGE_df[MORTGAGE_df['loan_status'] == 'Charged Off']) / len(MORTGAGE_df)) * 100\n",
    "OTHER_df_Pct =(len(OTHER_df[OTHER_df['loan_status'] == 'Charged Off']) / len(OTHER_df)) * 100\n",
    "\n",
    "\n",
    "df = pd.DataFrame({'HOME ownership':['RENT','OWN','MORTAGEG','OTHER'], 'defaultloan%':[RENT_df_Pct, OWN_df_Pct, loangradeC_df_Pct,OTHER_df_Pct]})\n",
    "ax = df.plot.bar(x='HOME ownership', y='defaultloan%', rot=0)"
   ]
  },
  {
   "cell_type": "code",
   "execution_count": 109,
   "id": "c166f347-1bbb-42f3-9e75-7a36950b13d9",
   "metadata": {},
   "outputs": [
    {
     "data": {
      "image/png": "[encoded data removed]",
      "text/plain": [
       "<Figure size 432x288 with 1 Axes>"
      ]
     },
     "metadata": {
      "needs_background": "light"
     },
     "output_type": "display_data"
    }
   ],
   "source": [
    "#Loan purpose impact on whether loan purpose has more % of loan defaulters\n",
    "car_df = loan_df_withoutNA[(loan_df_withoutNA[\"purpose\"] == \"car\")] \n",
    "credit_card_df = loan_df_withoutNA[(loan_df_withoutNA[\"purpose\"] == \"credit_card\")] \n",
    "debt_consolidation_df = loan_df_withoutNA[(loan_df_withoutNA[\"purpose\"] == \"debt_consolidation\")]\n",
    "home_improvement_df = loan_df_withoutNA[(loan_df_withoutNA[\"purpose\"] == \"home_improvement\")]\n",
    "house_df = loan_df_withoutNA[(loan_df_withoutNA[\"purpose\"] == \"house\")]\n",
    "major_purchase_df = loan_df_withoutNA[(loan_df_withoutNA[\"purpose\"] == \"major_purchase\")]\n",
    "medical_df = loan_df_withoutNA[(loan_df_withoutNA[\"purpose\"] == \"medical\")]\n",
    "moving_df = loan_df_withoutNA[(loan_df_withoutNA[\"purpose\"] == \"moving\")]\n",
    "other_df = loan_df_withoutNA[(loan_df_withoutNA[\"purpose\"] == \"other\")]\n",
    "renewable_energy_df = loan_df_withoutNA[(loan_df_withoutNA[\"purpose\"] == \"renewable_energy\")]\n",
    "small_business_df = loan_df_withoutNA[(loan_df_withoutNA[\"purpose\"] == \"small_business\")]\n",
    "vacation_df = loan_df_withoutNA[(loan_df_withoutNA[\"purpose\"] == \"vacation\")]\n",
    "wedding_df = loan_df_withoutNA[(loan_df_withoutNA[\"purpose\"] == \"wedding\")]\n",
    "\n",
    "\n",
    "\n",
    "#compare only charged off records against total records to calculate %\n",
    "car_df_Pct = len(car_df[car_df['loan_status'] == 'Charged Off']) / len(car_df) * 100\n",
    "credit_card_df_Pct =(len(credit_card_df[credit_card_df['loan_status'] == 'Charged Off']) / len(credit_card_df)) * 100\n",
    "debt_consolidation_df_Pct =(len(debt_consolidation_df[debt_consolidation_df['loan_status'] == 'Charged Off']) / len(debt_consolidation_df)) * 100\n",
    "home_improvement_df_Pct =(len(home_improvement_df[home_improvement_df['loan_status'] == 'Charged Off']) / len(home_improvement_df)) * 100\n",
    "house_df_Pct =(len(house_df[house_df['loan_status'] == 'Charged Off']) / len(house_df)) * 100\n",
    "major_purchase_df_Pct =(len(major_purchase_df[major_purchase_df['loan_status'] == 'Charged Off']) / len(major_purchase_df)) * 100\n",
    "medical_df_Pct =(len(medical_df[medical_df['loan_status'] == 'Charged Off']) / len(medical_df)) * 100\n",
    "moving_df_Pct =(len(moving_df[moving_df['loan_status'] == 'Charged Off']) / len(moving_df)) * 100\n",
    "other_df_Pct =(len(other_df[other_df['loan_status'] == 'Charged Off']) / len(other_df)) * 100\n",
    "renewable_energy_df_Pct =(len(renewable_energy_df[renewable_energy_df['loan_status'] == 'Charged Off']) / len(renewable_energy_df)) * 100\n",
    "small_business_df_Pct =(len(small_business_df[small_business_df['loan_status'] == 'Charged Off']) / len(small_business_df)) * 100\n",
    "vacation_df_Pct =(len(vacation_df[vacation_df['loan_status'] == 'Charged Off']) / len(vacation_df)) * 100\n",
    "wedding_df_Pct =(len(wedding_df[wedding_df['loan_status'] == 'Charged Off']) / len(wedding_df)) * 100\n",
    "\n",
    "df = pd.DataFrame({'Purpose':['car','credit_card','debt_consolidation','home_improvement','house','major_purchase','medical','moving','other','renewable_energy','small_business','vacation','wedding'], 'defaultloan%':[car_df_Pct, credit_card_df_Pct, debt_consolidation_df_Pct,home_improvement_df_Pct,house_df_Pct,major_purchase_df_Pct,medical_df_Pct,moving_df_Pct,other_df_Pct,renewable_energy_df_Pct,small_business_df_Pct,vacation_df_Pct,wedding_df_Pct]})\n",
    "\n",
    "ax = df.plot.bar(x='Purpose', y='defaultloan%', rot=0, )"
   ]
  },
  {
   "cell_type": "code",
   "execution_count": null,
   "id": "a5174d2e-c89b-49e6-9862-62b3773f1efa",
   "metadata": {},
   "outputs": [],
   "source": []
  }
 ],
 "metadata": {
  "kernelspec": {
   "display_name": "Python 3 (ipykernel)",
   "language": "python",
   "name": "python3"
  },
  "language_info": {
   "codemirror_mode": {
    "name": "ipython",
    "version": 3
   },
   "file_extension": ".py",
   "mimetype": "text/x-python",
   "name": "python",
   "nbconvert_exporter": "python",
   "pygments_lexer": "ipython3",
   "version": "3.9.7"
  }
 },
 "nbformat": 4,
 "nbformat_minor": 5
}
